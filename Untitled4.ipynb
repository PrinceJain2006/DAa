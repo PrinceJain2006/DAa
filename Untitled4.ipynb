{
  "nbformat": 4,
  "nbformat_minor": 0,
  "metadata": {
    "colab": {
      "provenance": [],
      "authorship_tag": "ABX9TyPtppVKUTHdrp70VhcjkqN0",
      "include_colab_link": true
    },
    "kernelspec": {
      "name": "python3",
      "display_name": "Python 3"
    },
    "language_info": {
      "name": "python"
    }
  },
  "cells": [
    {
      "cell_type": "markdown",
      "metadata": {
        "id": "view-in-github",
        "colab_type": "text"
      },
      "source": [
        "<a href=\"https://colab.research.google.com/github/PrinceJain2006/DAa/blob/main/Untitled4.ipynb\" target=\"_parent\"><img src=\"https://colab.research.google.com/assets/colab-badge.svg\" alt=\"Open In Colab\"/></a>"
      ]
    },
    {
      "cell_type": "code",
      "execution_count": 25,
      "metadata": {
        "colab": {
          "base_uri": "https://localhost:8080/"
        },
        "id": "GQ0O_dDjctom",
        "outputId": "5e6af466-3326-4163-b881-d9f75ae1c13a"
      },
      "outputs": [
        {
          "output_type": "stream",
          "name": "stdout",
          "text": [
            "Overwriting Rgcd.cpp\n"
          ]
        }
      ],
      "source": [
        "%%writefile Rgcd.cpp\n",
        "#include <iostream>\n",
        "using namespace std;\n",
        "\n",
        "int gcd(int a, int b) {\n",
        "    if (b == 0)\n",
        "        return a;\n",
        "    return gcd(b, a % b);\n",
        "}\n",
        "int main() {\n",
        "    int a = 66, b = 18;\n",
        "    cout << \"GCD of \" << a << \" and \" << b << \" is: \" << gcd(a, b) << endl;\n",
        "    return 0;\n",
        "}"
      ]
    },
    {
      "cell_type": "code",
      "source": [
        "!g++ Rgcd.cpp"
      ],
      "metadata": {
        "id": "z8DlfTyndOz3"
      },
      "execution_count": 26,
      "outputs": []
    },
    {
      "cell_type": "code",
      "source": [
        "!./a.out"
      ],
      "metadata": {
        "colab": {
          "base_uri": "https://localhost:8080/"
        },
        "id": "M9W9zru0eBF2",
        "outputId": "b9286b30-b863-45c2-9957-5715184f94c7"
      },
      "execution_count": 27,
      "outputs": [
        {
          "output_type": "stream",
          "name": "stdout",
          "text": [
            "GCD of 66 and 18 is: 6\n"
          ]
        }
      ]
    },
    {
      "cell_type": "code",
      "source": [
        "%%writefile prince.cpp\n",
        "#include <iostream>\n",
        "#include <stack>\n",
        "#include <cctype>\n",
        "using namespace std;\n",
        "int evaluate_postfix(string expression) {\n",
        "    stack<int> st;\n",
        "    for (char c : expression) {\n",
        "      if  (isdigit(c)) {\n",
        "        st.push(c - '0');\n",
        "      } else {\n",
        "        int b = st.top();\n",
        "        st.pop();\n",
        "        int a = st.top();\n",
        "        st.pop();\n",
        "        switch (c) {\n",
        "          case '+':\n",
        "            st.push(a + b); break;\n",
        "          case '-':\n",
        "            st.push(a - b); break;\n",
        "          case '*':\n",
        "            st.push(a * b); break;\n",
        "          case '/':\n",
        "            st.push(a / b); break;\n",
        "        }\n",
        "      }\n",
        "    }\n",
        "    return st.top();\n",
        "}\n",
        "int main() {\n",
        "    string expr = \"231*+9-\";\n",
        "    cout << \"Postfix expression \" <<expr << endl;\n",
        "    cout << \"Evaluate result \" <<evaluate_postfix(expr) << endl;\n",
        "    return 0;\n",
        "}"
      ],
      "metadata": {
        "colab": {
          "base_uri": "https://localhost:8080/"
        },
        "id": "E5QBWFhpinuT",
        "outputId": "705cd857-3835-40ec-c719-d3faa931c51c"
      },
      "execution_count": 28,
      "outputs": [
        {
          "output_type": "stream",
          "name": "stdout",
          "text": [
            "Overwriting prince.cpp\n"
          ]
        }
      ]
    },
    {
      "cell_type": "code",
      "source": [
        "!g++ prince.cpp"
      ],
      "metadata": {
        "id": "tPT5-Sezin_b"
      },
      "execution_count": 29,
      "outputs": []
    },
    {
      "cell_type": "code",
      "source": [
        "!./a.out"
      ],
      "metadata": {
        "colab": {
          "base_uri": "https://localhost:8080/"
        },
        "id": "ve8C6MLqleci",
        "outputId": "42b5ad8c-dc51-4bac-e9d3-3360115b0c54"
      },
      "execution_count": 30,
      "outputs": [
        {
          "output_type": "stream",
          "name": "stdout",
          "text": [
            "Postfix expression 231*+9-\n",
            "Evaluate result -4\n"
          ]
        }
      ]
    }
  ]
}